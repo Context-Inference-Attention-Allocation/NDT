{
 "cells": [
  {
   "cell_type": "code",
   "execution_count": 1,
   "metadata": {},
   "outputs": [
    {
     "name": "stdout",
     "output_type": "stream",
     "text": [
      "Requirement already satisfied: hmmlearn in /opt/anaconda3/lib/python3.11/site-packages (0.3.3)\n",
      "Requirement already satisfied: numpy>=1.10 in /opt/anaconda3/lib/python3.11/site-packages (from hmmlearn) (1.26.4)\n",
      "Requirement already satisfied: scikit-learn!=0.22.0,>=0.16 in /opt/anaconda3/lib/python3.11/site-packages (from hmmlearn) (1.2.2)\n",
      "Requirement already satisfied: scipy>=0.19 in /opt/anaconda3/lib/python3.11/site-packages (from hmmlearn) (1.11.4)\n",
      "Requirement already satisfied: joblib>=1.1.1 in /opt/anaconda3/lib/python3.11/site-packages (from scikit-learn!=0.22.0,>=0.16->hmmlearn) (1.2.0)\n",
      "Requirement already satisfied: threadpoolctl>=2.0.0 in /opt/anaconda3/lib/python3.11/site-packages (from scikit-learn!=0.22.0,>=0.16->hmmlearn) (2.2.0)\n"
     ]
    }
   ],
   "source": [
    "!pip install hmmlearn"
   ]
  },
  {
   "cell_type": "code",
   "execution_count": null,
   "metadata": {},
   "outputs": [
    {
     "name": "stdout",
     "output_type": "stream",
     "text": [
      "Generated feature matrix (z): (50000, 3)\n",
      "Generated outcomes (u): [0 1 1 ... 1 1 1]\n",
      "True weights (beta): [[0.5], [3.0]]\n",
      "True bias: [0, 0]\n",
      "True mixing coefficients: [-2, 1.5]\n"
     ]
    }
   ],
   "source": [
    "import numpy as np\n",
    "import matplotlib.pyplot as plt\n",
    "from sklearn.utils import check_random_state\n",
    "from scipy.special import softmax\n",
    "from hmmlearn.hmm import GaussianHMM\n",
    "import random\n",
    "\n",
    "class SyntheticDataGenerator:\n",
    "    def __init__(self, N, F1, F2, F3, K, seed=546):\n",
    "        self.N = N\n",
    "        self.F1 = F1\n",
    "        self.F2 = F2\n",
    "        self.F3 = F3\n",
    "        self.K = K\n",
    "        self.rs = check_random_state(seed)\n",
    "        \n",
    "    def compute_policy_with_states(self, Z_F_3, thetas, p_s):\n",
    "        c1_sum, c0_sum = 0, 0\n",
    "        num_states = len(p_s)\n",
    "        norm_r = [-1, 0]\n",
    "        for s in range(num_states):\n",
    "            R1_s = thetas[s]\n",
    "            R0_s = 0\n",
    "            c = softmax([R0_s, R1_s])\n",
    "            c1_sum += c[1] * p_s[s]\n",
    "            c0_sum += c[0] * p_s[s]\n",
    "        return [c0_sum, c1_sum]\n",
    "\n",
    "    def _sigmoid(self, x):\n",
    "        return 1 / (1 + np.exp(-x))\n",
    "\n",
    "    def generate_synthetic_data(self):\n",
    "        model = GaussianHMM(2, init_params=\"\")\n",
    "        model.n_features = 2\n",
    "        model.startprob_ = np.array([1.0, 0])\n",
    "        model.transmat_ = np.array([[0.8, 0.2], [0.1, 0.9]])\n",
    "        model.means_ = np.array([[1], [2.5]])\n",
    "        model.covars_ = np.sqrt([[0.001], [0.01]])\n",
    "        \n",
    "        sequences, lengths = [], []\n",
    "        for _ in range(1):\n",
    "            sequences.extend(model.sample(self.N, random_state=self.rs)[0])\n",
    "            lengths.append(self.N)\n",
    "        \n",
    "        z = np.repeat(np.asarray(sequences), 3, axis=1)\n",
    "        posterior_ = model.predict_proba(sequences, lengths)\n",
    "        \n",
    "        true_weights = [[0.5], [3.0]]\n",
    "        true_bias = [0, 0]\n",
    "        true_theta = [-2, 1.5]\n",
    "        \n",
    "        outcomes = []\n",
    "        for n in range(self.N):\n",
    "            mu_1 = self._sigmoid(np.dot(true_weights[0], z[n][:self.F1]) + true_bias[0])\n",
    "            mu_2 = self._sigmoid(np.dot(true_weights[1], z[n][self.F1:self.F1+self.F2]) + true_bias[1])\n",
    "            \n",
    "            policy_c = self.compute_policy_with_states(z[n][self.F1+self.F2:], true_theta, posterior_[n])\n",
    "            prob_1 = policy_c[0] * mu_1\n",
    "            prob_2 = policy_c[1] * mu_2\n",
    "            \n",
    "            total_prob = prob_1 + prob_2\n",
    "            prob_1 /= total_prob\n",
    "            prob_2 /= total_prob\n",
    "            \n",
    "            random.seed(n)\n",
    "            u_n = np.random.choice([0, 1], p=[1 - total_prob, total_prob])\n",
    "            outcomes.append(u_n)\n",
    "        \n",
    "        return np.array(z), np.array(outcomes), true_weights, true_bias, true_theta, posterior_\n",
    "\n",
    "# Example usage\n",
    "generator = SyntheticDataGenerator(N=50000, F1=1, F2=1, F3=1, K=2)\n",
    "z, outcomes, true_weights, true_bias, true_theta, posteriors = generator.generate_synthetic_data()\n",
    "print(\"Generated feature matrix (z):\", z.shape)\n",
    "print(\"Generated outcomes (u):\", outcomes)\n",
    "print(\"True weights (beta):\", true_weights)\n",
    "print(\"True bias:\", true_bias)\n",
    "print(\"True mixing coefficients:\", true_theta)\n",
    "np.save(\"synthetic_data_observations_new.npy\", z)\n",
    "np.save(\"synthetic_data_outcomes_new.npy\", outcomes)"
   ]
  }
 ],
 "metadata": {
  "kernelspec": {
   "display_name": "base",
   "language": "python",
   "name": "python3"
  },
  "language_info": {
   "codemirror_mode": {
    "name": "ipython",
    "version": 3
   },
   "file_extension": ".py",
   "mimetype": "text/x-python",
   "name": "python",
   "nbconvert_exporter": "python",
   "pygments_lexer": "ipython3",
   "version": "3.11.7"
  }
 },
 "nbformat": 4,
 "nbformat_minor": 2
}
