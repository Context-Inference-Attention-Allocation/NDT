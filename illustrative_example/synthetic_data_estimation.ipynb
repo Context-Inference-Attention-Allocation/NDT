{
 "cells": [
  {
   "cell_type": "code",
   "execution_count": 10,
   "metadata": {},
   "outputs": [],
   "source": [
    "import numpy as np\n",
    "import pandas as pd\n",
    "from IPython.display import display\n",
    "from scipy.optimize import minimize\n",
    "from hmmlearn.hmm import GaussianHMM\n",
    "import warnings\n",
    "\n",
    "warnings.filterwarnings('ignore')\n",
    "np.set_printoptions(precision=3)\n",
    "class EMAlgorithm:\n",
    "    def __init__(self, F1, F2, z, outcome, max_iterations=600, convergence_threshold=0.0001):\n",
    "        self.F1 = F1\n",
    "        self.F2 = F2\n",
    "        self.z = z[:, 0].reshape(-1, 1)\n",
    "        self.outcome = outcome\n",
    "        self.max_iterations = max_iterations\n",
    "        self.convergence_threshold = convergence_threshold\n",
    "        self.weights = None\n",
    "        self.bias = None\n",
    "        self.thetas = None\n",
    "        self.log_likelihoods = [100]\n",
    "        self.N = len(self.z)\n",
    "        self.K = 2\n",
    "        self.transmat = None\n",
    "        self.means = None\n",
    "        self.covariance = None\n",
    "        self.start_prob = None\n",
    "\n",
    "    \n",
    "    def logistic_prob_batch(self, X, weights, bias):\n",
    "        return 1 / (1 + np.exp(-np.dot(X, weights) - bias))\n",
    "    \n",
    "    def compute_policy_batch(self, thetas, posterior_probs):\n",
    "        exp_R1 = np.exp(thetas)\n",
    "        pi_a1_given_s = exp_R1 / (exp_R1 + 1)\n",
    "        pi_a0_given_s = 1 - pi_a1_given_s\n",
    "        c1_sums = np.sum(pi_a1_given_s * posterior_probs, axis=1)\n",
    "        c0_sums = np.sum(pi_a0_given_s * posterior_probs, axis=1)\n",
    "        return np.column_stack((c0_sums, c1_sums))\n",
    "    \n",
    "    def expectation_step(self, data, K, N, weights, bias, thetas, posterior):\n",
    "        mu_0 = self.logistic_prob_batch(data, weights[0], bias[0])\n",
    "        mu_0 = mu_0 * self.outcome + (1 - mu_0) * (1 - self.outcome)\n",
    "        mu_1 = self.logistic_prob_batch(data, weights[1], bias[1])\n",
    "        mu_1 = mu_1 * self.outcome + (1 - mu_1) * (1 - self.outcome)\n",
    "        policy = self.compute_policy_batch(thetas, posterior)\n",
    "        denominator0, denominator1 = policy[:, 0] * mu_0, policy[:, 1] * mu_1\n",
    "        sum_denominator = denominator0 + denominator1\n",
    "        gamma = np.zeros((N, K))\n",
    "        gamma[:, 0] = denominator0 / sum_denominator\n",
    "        gamma[:, 1] = denominator1 / sum_denominator\n",
    "        return gamma\n",
    "    \n",
    "    def maximization_step(self, data, K, N, gamma, init_b, init_c, posterior):\n",
    "        def objective(params):\n",
    "            new_weights, new_theta = params[:self.F1+self.F2], params[self.F1+self.F2:]\n",
    "            weights = [new_weights[:self.F1], new_weights[self.F1:self.F1+self.F2]]\n",
    "            thetas = new_theta\n",
    "            mu_0 = self.logistic_prob_batch(data, weights[0], self.bias[0])\n",
    "            mu_1 = self.logistic_prob_batch(data, weights[1], self.bias[1])\n",
    "            mu_0 = mu_0 * self.outcome + (1 - mu_0) * (1 - self.outcome)\n",
    "            mu_1 = mu_1 * self.outcome + (1 - mu_1) * (1 - self.outcome)\n",
    "            policy = self.compute_policy_batch(thetas, posterior)\n",
    "            log_likelihood = np.sum(gamma[:, 0] * np.log(policy[:, 0] * mu_0) +\n",
    "                                    gamma[:, 1] * np.log(policy[:, 1] * mu_1))\n",
    "            return -log_likelihood\n",
    "        \n",
    "        result = minimize(fun=objective, x0=np.concatenate([init_b, init_c]), method='SLSQP')\n",
    "        return result.x[:self.F1+self.F2], result.x[self.F1+self.F2:]\n",
    "    \n",
    "    def logLikelihoodCalculation_batch(self,posteriors):\n",
    "        mu_0 = self.logistic_prob_batch(self.z, self.weights[0], self.bias[0])\n",
    "        mu_0 = mu_0 * self.outcome + (1 - mu_0) * (1 - self.outcome)\n",
    "        mu_1 = self.logistic_prob_batch(self.z, self.weights[1], self.bias[1])\n",
    "        mu_1 = mu_1 * self.outcome + (1 - mu_1) * (1 - self.outcome)\n",
    "        \n",
    "        policy = self.compute_policy_batch(self.thetas, posteriors)\n",
    "        \n",
    "        likelihood = np.zeros((self.N, self.K))\n",
    "        likelihood[:, 0] = mu_0 * policy[:, 0]\n",
    "        likelihood[:, 1] = mu_1 * policy[:, 1]\n",
    "        \n",
    "        log_likelihood = np.sum(np.log(likelihood[:, 0] + likelihood[:, 1]))\n",
    "        return log_likelihood\n",
    "    \n",
    "    def fit(self):\n",
    "        N = len(self.z)\n",
    "        K = 2\n",
    "        print('Starting Stage-1 Estimation..')\n",
    "        best_ll, best_model = None, None\n",
    "        X = self.z\n",
    "        for i in range(20):\n",
    "            model = GaussianHMM(K, n_iter=200, tol=1e-4, random_state=i)\n",
    "            model.fit(X)\n",
    "            score = model.score(X)\n",
    "            if best_ll is None or best_ll < score:\n",
    "                best_ll, best_model = score, model\n",
    "        print('Converged Stage-1')\n",
    "        self.transmat = best_model.transmat_\n",
    "        self.means =best_model.means_\n",
    "        self.covariance = best_model.covars_\n",
    "        self.start_prob = best_model.startprob_\n",
    "\n",
    "        posteriors = best_model.predict_proba(X)\n",
    "\n",
    "        if np.argmax(best_model.startprob_) != 0:  \n",
    "            posterior_new = best_model.predict_proba(X)\n",
    "            posteriors[:, 1] = posterior_new[:, 0]\n",
    "            posteriors[:, 0] = posterior_new[:, 1]\n",
    "\n",
    "        z = self.z\n",
    "        np.random.seed(0)\n",
    "        init_b = np.random.random(self.F1 + self.F2)\n",
    "        init_c = np.array([0, 0])\n",
    "        self.weights = [init_b[:self.F1], init_b[self.F1:self.F1+self.F2]]\n",
    "        self.bias = [0, 0]\n",
    "        self.thetas = init_c\n",
    "        best_log_likelihood = float('-inf')  # Start with negative infinity\n",
    "        best_weights = None\n",
    "        best_theta = None\n",
    "        print('Starting Stage-2 Estimation..')\n",
    "        for i in range(self.max_iterations):\n",
    "            gamma = self.expectation_step(z, K, N, self.weights, self.bias, self.thetas, posteriors)\n",
    "            new_weights, new_thetas = self.maximization_step(z, K, N, gamma, init_b, init_c, posteriors)\n",
    "            self.weights = [new_weights[:self.F1], new_weights[self.F1:self.F1+self.F2]]\n",
    "            self.thetas = new_thetas\n",
    "            current_log_likelihood = self.logLikelihoodCalculation_batch(posteriors)\n",
    "            self.log_likelihoods.append(current_log_likelihood)\n",
    "            \n",
    "            if np.isnan(current_log_likelihood):\n",
    "                print(\"Stopped due to NaN in log-likelihood.\")\n",
    "                break\n",
    "            \n",
    "            if current_log_likelihood > best_log_likelihood:\n",
    "                best_log_likelihood = current_log_likelihood\n",
    "                best_weights = self.weights\n",
    "                best_theta = self.thetas\n",
    "                worse_count = 0\n",
    "            else:\n",
    "                worse_count += 1\n",
    "            \n",
    "            if i % 100 == 0:\n",
    "                print(f\"Iteration {i + 1}: Log likelihood = {current_log_likelihood}\")\n",
    "                print('Weights:', self.weights)\n",
    "                print('Theta:', self.thetas)\n",
    "            \n",
    "            if abs(self.log_likelihoods[-1] - self.log_likelihoods[-2]) < self.convergence_threshold:\n",
    "                print(\"Converged Stage-2\")\n",
    "                self.weights = best_weights\n",
    "                self.thetas = best_theta\n",
    "                break\n",
    "            if worse_count >= 100:\n",
    "                print(\"Stopped due to 10 consecutive worsening iterations.\")\n",
    "                break\n",
    "\n",
    "            i+=1\n",
    "\n",
    "        \n",
    "        return self.weights, self.thetas\n",
    "    \n",
    "    def display_parameters(self):\n",
    "        print(\"True Transition Probabilities:\")\n",
    "        true_transmat = np.array([[0.8, 0.2], \n",
    "                                [0.1, 0.9]]) \n",
    "        df_true_transmat = pd.DataFrame(true_transmat, \n",
    "                                        columns=[f\"State {i}\" for i in range(len(true_transmat))], \n",
    "                                        index=[f\"State {i}\" for i in range(len(true_transmat))])\n",
    "        display(df_true_transmat.round(3))\n",
    "\n",
    "        print(\"Estimated Transition Probabilities:\")\n",
    "        df_transmat = pd.DataFrame(self.transmat[::-1, ::-1], \n",
    "                                columns=[f\"State {i}\" for i in range(len(self.transmat))], \n",
    "                                index=[f\"State {i}\" for i in range(len(self.transmat))])\n",
    "        display(df_transmat.round(3))\n",
    "\n",
    "        print(\"True Means:\")\n",
    "        true_means = np.array([[1.0], \n",
    "                            [2.5]])  \n",
    "        df_true_means = pd.DataFrame(true_means, \n",
    "                                    columns=[f\"Feature {i}\" for i in range(true_means.shape[1])], \n",
    "                                    index=[f\"State {i}\" for i in range(true_means.shape[0])])\n",
    "        display(df_true_means.round(3))\n",
    "\n",
    "        print(\"Estimated Means:\")\n",
    "        df_means = pd.DataFrame(self.means[::-1, ::-1], \n",
    "                                columns=[f\"Feature {i}\" for i in range(self.means.shape[1])], \n",
    "                                index=[f\"State {i}\" for i in range(self.means.shape[0])])\n",
    "        display(df_means.round(3))\n",
    "\n",
    "\n",
    "        print(\"True Standard deviation:\")\n",
    "        true_covars = np.array([[[0.03]], \n",
    "                                [[0.1]]])  \n",
    "        df_true_covars = pd.DataFrame(true_covars.reshape(true_covars.shape[0], -1), \n",
    "                                    index=[f\"State {i}\" for i in range(true_covars.shape[0])],\n",
    "                                    columns=[f\"Feature {i}\" for i in range(true_covars.shape[1] * true_covars.shape[2])])\n",
    "        display(df_true_covars.round(3))\n",
    "\n",
    "        print(\"Estimated Standard deviation:\")\n",
    "        df_covars = pd.DataFrame(self.covariance.reshape(self.covariance.shape[0], -1)[::-1, ::-1], \n",
    "                                index=[f\"State {i}\" for i in range(self.covariance.shape[0])],\n",
    "                                columns=[f\"Feature {i}\" for i in range(self.covariance.shape[1])])\n",
    "        display(df_covars.round(3))\n",
    "\n",
    "\n",
    "        print(\"True Start Probabilities:\")\n",
    "        true_startprob = np.array([1.0, 0.0])  \n",
    "        df_true_startprob = pd.DataFrame(true_startprob.reshape(1, -1), \n",
    "                                        columns=[f\"State {i}\" for i in range(len(true_startprob))])\n",
    "        display(df_true_startprob.round(3))\n",
    "\n",
    "        print(\"Estimated Start Probabilities:\")\n",
    "        df_startprob = pd.DataFrame(self.start_prob.reshape(1, -1)[::-1, ::-1], \n",
    "                                    columns=[f\"State {i}\" for i in range(len(self.start_prob))])\n",
    "        display(df_startprob.round(3))\n",
    "\n",
    "        # Display Estimated Weights and Theta\n",
    "        print(\"True Weights:\")\n",
    "        true_weights = np.array([[0.5],[3.0]])\n",
    "        df_true_weights = pd.DataFrame(true_weights.reshape(1, -1), \n",
    "                                        columns=[f\"State {i}\" for i in range(len(true_weights))])\n",
    "        display(df_true_weights.round(3))\n",
    "        print(\"Estimated Weights:\")\n",
    "        df_est_weights = pd.DataFrame(np.array(self.weights).reshape(1, -1), \n",
    "                                        columns=[f\"State {i}\" for i in range(len(self.weights))])\n",
    "        display(df_est_weights.round(3))\n",
    "        print(\"True Theta:\")\n",
    "        true_theta = np.array([-2.0,1.5])\n",
    "        df_true_theta = pd.DataFrame(true_theta.reshape(1, -1), \n",
    "                                        columns=[f\"State {i}\" for i in range(len(true_theta))])\n",
    "        display(df_true_theta.round(3))\n",
    "        print(\"Estimated Theta:\")\n",
    "        df_est_theta = pd.DataFrame(np.array(self.thetas).reshape(1, -1), \n",
    "                                        columns=[f\"State {i}\" for i in range(len(self.thetas))])\n",
    "        display(df_est_theta.round(3))"
   ]
  },
  {
   "cell_type": "code",
   "execution_count": 11,
   "metadata": {},
   "outputs": [
    {
     "name": "stdout",
     "output_type": "stream",
     "text": [
      "Starting Stage-1 Estimation..\n",
      "Converged Stage-1\n",
      "Starting Stage-2 Estimation..\n",
      "Iteration 1: Log likelihood = -16639.227608635323\n",
      "Weights: [array([1.047]), array([1.192])]\n",
      "Theta: [0.001 0.054]\n",
      "Iteration 101: Log likelihood = -16130.717490145236\n",
      "Weights: [array([0.554]), array([2.688])]\n",
      "Theta: [-2.298  1.391]\n",
      "Iteration 201: Log likelihood = -16130.284216366388\n",
      "Weights: [array([0.537]), array([2.954])]\n",
      "Theta: [-2.267  1.423]\n",
      "Iteration 301: Log likelihood = -16130.252542910373\n",
      "Weights: [array([0.532]), array([3.])]\n",
      "Theta: [-2.231  1.434]\n",
      "Iteration 401: Log likelihood = -16130.233736399983\n",
      "Weights: [array([0.528]), array([2.991])]\n",
      "Theta: [-2.201  1.444]\n",
      "Iteration 501: Log likelihood = -16130.21685568338\n",
      "Weights: [array([0.525]), array([2.969])]\n",
      "Theta: [-2.173  1.453]\n"
     ]
    }
   ],
   "source": [
    "# Generate some sample data (Replace this with actual data)\n",
    "F1, F2 = 1, 1  # Feature dimensions\n",
    "z = np.load(\"synthetic_data_observations.npy\")\n",
    "outcomes = np.load(\"synthetic_data_outcomes.npy\")\n",
    "\n",
    "# Initialize EM-HMM model\n",
    "em_hmm = EMAlgorithm(F1, F2,z, outcomes)\n",
    "result = em_hmm.fit()"
   ]
  },
  {
   "cell_type": "code",
   "execution_count": 12,
   "metadata": {},
   "outputs": [
    {
     "name": "stdout",
     "output_type": "stream",
     "text": [
      "True Transition Probabilities:\n"
     ]
    },
    {
     "data": {
      "application/vnd.microsoft.datawrangler.viewer.v0+json": {
       "columns": [
        {
         "name": "index",
         "rawType": "object",
         "type": "string"
        },
        {
         "name": "State 0",
         "rawType": "float64",
         "type": "float"
        },
        {
         "name": "State 1",
         "rawType": "float64",
         "type": "float"
        }
       ],
       "conversionMethod": "pd.DataFrame",
       "ref": "58d7dcf8-9ef4-468c-8652-c391029be71c",
       "rows": [
        [
         "State 0",
         "0.8",
         "0.2"
        ],
        [
         "State 1",
         "0.1",
         "0.9"
        ]
       ],
       "shape": {
        "columns": 2,
        "rows": 2
       }
      },
      "text/html": [
       "<div>\n",
       "<style scoped>\n",
       "    .dataframe tbody tr th:only-of-type {\n",
       "        vertical-align: middle;\n",
       "    }\n",
       "\n",
       "    .dataframe tbody tr th {\n",
       "        vertical-align: top;\n",
       "    }\n",
       "\n",
       "    .dataframe thead th {\n",
       "        text-align: right;\n",
       "    }\n",
       "</style>\n",
       "<table border=\"1\" class=\"dataframe\">\n",
       "  <thead>\n",
       "    <tr style=\"text-align: right;\">\n",
       "      <th></th>\n",
       "      <th>State 0</th>\n",
       "      <th>State 1</th>\n",
       "    </tr>\n",
       "  </thead>\n",
       "  <tbody>\n",
       "    <tr>\n",
       "      <th>State 0</th>\n",
       "      <td>0.8</td>\n",
       "      <td>0.2</td>\n",
       "    </tr>\n",
       "    <tr>\n",
       "      <th>State 1</th>\n",
       "      <td>0.1</td>\n",
       "      <td>0.9</td>\n",
       "    </tr>\n",
       "  </tbody>\n",
       "</table>\n",
       "</div>"
      ],
      "text/plain": [
       "         State 0  State 1\n",
       "State 0      0.8      0.2\n",
       "State 1      0.1      0.9"
      ]
     },
     "metadata": {},
     "output_type": "display_data"
    },
    {
     "name": "stdout",
     "output_type": "stream",
     "text": [
      "Estimated Transition Probabilities:\n"
     ]
    },
    {
     "data": {
      "application/vnd.microsoft.datawrangler.viewer.v0+json": {
       "columns": [
        {
         "name": "index",
         "rawType": "object",
         "type": "string"
        },
        {
         "name": "State 0",
         "rawType": "float64",
         "type": "float"
        },
        {
         "name": "State 1",
         "rawType": "float64",
         "type": "float"
        }
       ],
       "conversionMethod": "pd.DataFrame",
       "ref": "30849f84-3d97-43a3-b906-1d44ed6aac71",
       "rows": [
        [
         "State 0",
         "0.793",
         "0.207"
        ],
        [
         "State 1",
         "0.099",
         "0.901"
        ]
       ],
       "shape": {
        "columns": 2,
        "rows": 2
       }
      },
      "text/html": [
       "<div>\n",
       "<style scoped>\n",
       "    .dataframe tbody tr th:only-of-type {\n",
       "        vertical-align: middle;\n",
       "    }\n",
       "\n",
       "    .dataframe tbody tr th {\n",
       "        vertical-align: top;\n",
       "    }\n",
       "\n",
       "    .dataframe thead th {\n",
       "        text-align: right;\n",
       "    }\n",
       "</style>\n",
       "<table border=\"1\" class=\"dataframe\">\n",
       "  <thead>\n",
       "    <tr style=\"text-align: right;\">\n",
       "      <th></th>\n",
       "      <th>State 0</th>\n",
       "      <th>State 1</th>\n",
       "    </tr>\n",
       "  </thead>\n",
       "  <tbody>\n",
       "    <tr>\n",
       "      <th>State 0</th>\n",
       "      <td>0.793</td>\n",
       "      <td>0.207</td>\n",
       "    </tr>\n",
       "    <tr>\n",
       "      <th>State 1</th>\n",
       "      <td>0.099</td>\n",
       "      <td>0.901</td>\n",
       "    </tr>\n",
       "  </tbody>\n",
       "</table>\n",
       "</div>"
      ],
      "text/plain": [
       "         State 0  State 1\n",
       "State 0    0.793    0.207\n",
       "State 1    0.099    0.901"
      ]
     },
     "metadata": {},
     "output_type": "display_data"
    },
    {
     "name": "stdout",
     "output_type": "stream",
     "text": [
      "True Means:\n"
     ]
    },
    {
     "data": {
      "application/vnd.microsoft.datawrangler.viewer.v0+json": {
       "columns": [
        {
         "name": "index",
         "rawType": "object",
         "type": "string"
        },
        {
         "name": "Feature 0",
         "rawType": "float64",
         "type": "float"
        }
       ],
       "conversionMethod": "pd.DataFrame",
       "ref": "4c641783-30de-4d5d-ac8a-cfdd0c393bc4",
       "rows": [
        [
         "State 0",
         "1.0"
        ],
        [
         "State 1",
         "2.5"
        ]
       ],
       "shape": {
        "columns": 1,
        "rows": 2
       }
      },
      "text/html": [
       "<div>\n",
       "<style scoped>\n",
       "    .dataframe tbody tr th:only-of-type {\n",
       "        vertical-align: middle;\n",
       "    }\n",
       "\n",
       "    .dataframe tbody tr th {\n",
       "        vertical-align: top;\n",
       "    }\n",
       "\n",
       "    .dataframe thead th {\n",
       "        text-align: right;\n",
       "    }\n",
       "</style>\n",
       "<table border=\"1\" class=\"dataframe\">\n",
       "  <thead>\n",
       "    <tr style=\"text-align: right;\">\n",
       "      <th></th>\n",
       "      <th>Feature 0</th>\n",
       "    </tr>\n",
       "  </thead>\n",
       "  <tbody>\n",
       "    <tr>\n",
       "      <th>State 0</th>\n",
       "      <td>1.0</td>\n",
       "    </tr>\n",
       "    <tr>\n",
       "      <th>State 1</th>\n",
       "      <td>2.5</td>\n",
       "    </tr>\n",
       "  </tbody>\n",
       "</table>\n",
       "</div>"
      ],
      "text/plain": [
       "         Feature 0\n",
       "State 0        1.0\n",
       "State 1        2.5"
      ]
     },
     "metadata": {},
     "output_type": "display_data"
    },
    {
     "name": "stdout",
     "output_type": "stream",
     "text": [
      "Estimated Means:\n"
     ]
    },
    {
     "data": {
      "application/vnd.microsoft.datawrangler.viewer.v0+json": {
       "columns": [
        {
         "name": "index",
         "rawType": "object",
         "type": "string"
        },
        {
         "name": "Feature 0",
         "rawType": "float64",
         "type": "float"
        }
       ],
       "conversionMethod": "pd.DataFrame",
       "ref": "dcdb9507-b39a-4826-97fb-14b68c609898",
       "rows": [
        [
         "State 0",
         "1.0"
        ],
        [
         "State 1",
         "2.502"
        ]
       ],
       "shape": {
        "columns": 1,
        "rows": 2
       }
      },
      "text/html": [
       "<div>\n",
       "<style scoped>\n",
       "    .dataframe tbody tr th:only-of-type {\n",
       "        vertical-align: middle;\n",
       "    }\n",
       "\n",
       "    .dataframe tbody tr th {\n",
       "        vertical-align: top;\n",
       "    }\n",
       "\n",
       "    .dataframe thead th {\n",
       "        text-align: right;\n",
       "    }\n",
       "</style>\n",
       "<table border=\"1\" class=\"dataframe\">\n",
       "  <thead>\n",
       "    <tr style=\"text-align: right;\">\n",
       "      <th></th>\n",
       "      <th>Feature 0</th>\n",
       "    </tr>\n",
       "  </thead>\n",
       "  <tbody>\n",
       "    <tr>\n",
       "      <th>State 0</th>\n",
       "      <td>1.000</td>\n",
       "    </tr>\n",
       "    <tr>\n",
       "      <th>State 1</th>\n",
       "      <td>2.502</td>\n",
       "    </tr>\n",
       "  </tbody>\n",
       "</table>\n",
       "</div>"
      ],
      "text/plain": [
       "         Feature 0\n",
       "State 0      1.000\n",
       "State 1      2.502"
      ]
     },
     "metadata": {},
     "output_type": "display_data"
    },
    {
     "name": "stdout",
     "output_type": "stream",
     "text": [
      "True Standard deviation:\n"
     ]
    },
    {
     "data": {
      "application/vnd.microsoft.datawrangler.viewer.v0+json": {
       "columns": [
        {
         "name": "index",
         "rawType": "object",
         "type": "string"
        },
        {
         "name": "Feature 0",
         "rawType": "float64",
         "type": "float"
        }
       ],
       "conversionMethod": "pd.DataFrame",
       "ref": "459d60a7-31f5-4719-9f5e-a30c48e353e3",
       "rows": [
        [
         "State 0",
         "0.03"
        ],
        [
         "State 1",
         "0.1"
        ]
       ],
       "shape": {
        "columns": 1,
        "rows": 2
       }
      },
      "text/html": [
       "<div>\n",
       "<style scoped>\n",
       "    .dataframe tbody tr th:only-of-type {\n",
       "        vertical-align: middle;\n",
       "    }\n",
       "\n",
       "    .dataframe tbody tr th {\n",
       "        vertical-align: top;\n",
       "    }\n",
       "\n",
       "    .dataframe thead th {\n",
       "        text-align: right;\n",
       "    }\n",
       "</style>\n",
       "<table border=\"1\" class=\"dataframe\">\n",
       "  <thead>\n",
       "    <tr style=\"text-align: right;\">\n",
       "      <th></th>\n",
       "      <th>Feature 0</th>\n",
       "    </tr>\n",
       "  </thead>\n",
       "  <tbody>\n",
       "    <tr>\n",
       "      <th>State 0</th>\n",
       "      <td>0.03</td>\n",
       "    </tr>\n",
       "    <tr>\n",
       "      <th>State 1</th>\n",
       "      <td>0.10</td>\n",
       "    </tr>\n",
       "  </tbody>\n",
       "</table>\n",
       "</div>"
      ],
      "text/plain": [
       "         Feature 0\n",
       "State 0       0.03\n",
       "State 1       0.10"
      ]
     },
     "metadata": {},
     "output_type": "display_data"
    },
    {
     "name": "stdout",
     "output_type": "stream",
     "text": [
      "Estimated Standard deviation:\n"
     ]
    },
    {
     "data": {
      "application/vnd.microsoft.datawrangler.viewer.v0+json": {
       "columns": [
        {
         "name": "index",
         "rawType": "object",
         "type": "string"
        },
        {
         "name": "Feature 0",
         "rawType": "float64",
         "type": "float"
        }
       ],
       "conversionMethod": "pd.DataFrame",
       "ref": "e0528c95-e1b7-4bd0-8c8d-4969451b2c45",
       "rows": [
        [
         "State 0",
         "0.032"
        ],
        [
         "State 1",
         "0.099"
        ]
       ],
       "shape": {
        "columns": 1,
        "rows": 2
       }
      },
      "text/html": [
       "<div>\n",
       "<style scoped>\n",
       "    .dataframe tbody tr th:only-of-type {\n",
       "        vertical-align: middle;\n",
       "    }\n",
       "\n",
       "    .dataframe tbody tr th {\n",
       "        vertical-align: top;\n",
       "    }\n",
       "\n",
       "    .dataframe thead th {\n",
       "        text-align: right;\n",
       "    }\n",
       "</style>\n",
       "<table border=\"1\" class=\"dataframe\">\n",
       "  <thead>\n",
       "    <tr style=\"text-align: right;\">\n",
       "      <th></th>\n",
       "      <th>Feature 0</th>\n",
       "    </tr>\n",
       "  </thead>\n",
       "  <tbody>\n",
       "    <tr>\n",
       "      <th>State 0</th>\n",
       "      <td>0.032</td>\n",
       "    </tr>\n",
       "    <tr>\n",
       "      <th>State 1</th>\n",
       "      <td>0.099</td>\n",
       "    </tr>\n",
       "  </tbody>\n",
       "</table>\n",
       "</div>"
      ],
      "text/plain": [
       "         Feature 0\n",
       "State 0      0.032\n",
       "State 1      0.099"
      ]
     },
     "metadata": {},
     "output_type": "display_data"
    },
    {
     "name": "stdout",
     "output_type": "stream",
     "text": [
      "True Start Probabilities:\n"
     ]
    },
    {
     "data": {
      "application/vnd.microsoft.datawrangler.viewer.v0+json": {
       "columns": [
        {
         "name": "index",
         "rawType": "int64",
         "type": "integer"
        },
        {
         "name": "State 0",
         "rawType": "float64",
         "type": "float"
        },
        {
         "name": "State 1",
         "rawType": "float64",
         "type": "float"
        }
       ],
       "conversionMethod": "pd.DataFrame",
       "ref": "868ee099-ab9f-4983-b73c-763c19e590bd",
       "rows": [
        [
         "0",
         "1.0",
         "0.0"
        ]
       ],
       "shape": {
        "columns": 2,
        "rows": 1
       }
      },
      "text/html": [
       "<div>\n",
       "<style scoped>\n",
       "    .dataframe tbody tr th:only-of-type {\n",
       "        vertical-align: middle;\n",
       "    }\n",
       "\n",
       "    .dataframe tbody tr th {\n",
       "        vertical-align: top;\n",
       "    }\n",
       "\n",
       "    .dataframe thead th {\n",
       "        text-align: right;\n",
       "    }\n",
       "</style>\n",
       "<table border=\"1\" class=\"dataframe\">\n",
       "  <thead>\n",
       "    <tr style=\"text-align: right;\">\n",
       "      <th></th>\n",
       "      <th>State 0</th>\n",
       "      <th>State 1</th>\n",
       "    </tr>\n",
       "  </thead>\n",
       "  <tbody>\n",
       "    <tr>\n",
       "      <th>0</th>\n",
       "      <td>1.0</td>\n",
       "      <td>0.0</td>\n",
       "    </tr>\n",
       "  </tbody>\n",
       "</table>\n",
       "</div>"
      ],
      "text/plain": [
       "   State 0  State 1\n",
       "0      1.0      0.0"
      ]
     },
     "metadata": {},
     "output_type": "display_data"
    },
    {
     "name": "stdout",
     "output_type": "stream",
     "text": [
      "Estimated Start Probabilities:\n"
     ]
    },
    {
     "data": {
      "application/vnd.microsoft.datawrangler.viewer.v0+json": {
       "columns": [
        {
         "name": "index",
         "rawType": "int64",
         "type": "integer"
        },
        {
         "name": "State 0",
         "rawType": "float64",
         "type": "float"
        },
        {
         "name": "State 1",
         "rawType": "float64",
         "type": "float"
        }
       ],
       "conversionMethod": "pd.DataFrame",
       "ref": "7142577e-0161-4043-8c73-475300afd05a",
       "rows": [
        [
         "0",
         "1.0",
         "0.0"
        ]
       ],
       "shape": {
        "columns": 2,
        "rows": 1
       }
      },
      "text/html": [
       "<div>\n",
       "<style scoped>\n",
       "    .dataframe tbody tr th:only-of-type {\n",
       "        vertical-align: middle;\n",
       "    }\n",
       "\n",
       "    .dataframe tbody tr th {\n",
       "        vertical-align: top;\n",
       "    }\n",
       "\n",
       "    .dataframe thead th {\n",
       "        text-align: right;\n",
       "    }\n",
       "</style>\n",
       "<table border=\"1\" class=\"dataframe\">\n",
       "  <thead>\n",
       "    <tr style=\"text-align: right;\">\n",
       "      <th></th>\n",
       "      <th>State 0</th>\n",
       "      <th>State 1</th>\n",
       "    </tr>\n",
       "  </thead>\n",
       "  <tbody>\n",
       "    <tr>\n",
       "      <th>0</th>\n",
       "      <td>1.0</td>\n",
       "      <td>0.0</td>\n",
       "    </tr>\n",
       "  </tbody>\n",
       "</table>\n",
       "</div>"
      ],
      "text/plain": [
       "   State 0  State 1\n",
       "0      1.0      0.0"
      ]
     },
     "metadata": {},
     "output_type": "display_data"
    },
    {
     "name": "stdout",
     "output_type": "stream",
     "text": [
      "True Weights:\n"
     ]
    },
    {
     "data": {
      "application/vnd.microsoft.datawrangler.viewer.v0+json": {
       "columns": [
        {
         "name": "index",
         "rawType": "int64",
         "type": "integer"
        },
        {
         "name": "State 0",
         "rawType": "float64",
         "type": "float"
        },
        {
         "name": "State 1",
         "rawType": "float64",
         "type": "float"
        }
       ],
       "conversionMethod": "pd.DataFrame",
       "ref": "a95f5a34-33bf-40d6-9761-fd22b46c2153",
       "rows": [
        [
         "0",
         "0.5",
         "3.0"
        ]
       ],
       "shape": {
        "columns": 2,
        "rows": 1
       }
      },
      "text/html": [
       "<div>\n",
       "<style scoped>\n",
       "    .dataframe tbody tr th:only-of-type {\n",
       "        vertical-align: middle;\n",
       "    }\n",
       "\n",
       "    .dataframe tbody tr th {\n",
       "        vertical-align: top;\n",
       "    }\n",
       "\n",
       "    .dataframe thead th {\n",
       "        text-align: right;\n",
       "    }\n",
       "</style>\n",
       "<table border=\"1\" class=\"dataframe\">\n",
       "  <thead>\n",
       "    <tr style=\"text-align: right;\">\n",
       "      <th></th>\n",
       "      <th>State 0</th>\n",
       "      <th>State 1</th>\n",
       "    </tr>\n",
       "  </thead>\n",
       "  <tbody>\n",
       "    <tr>\n",
       "      <th>0</th>\n",
       "      <td>0.5</td>\n",
       "      <td>3.0</td>\n",
       "    </tr>\n",
       "  </tbody>\n",
       "</table>\n",
       "</div>"
      ],
      "text/plain": [
       "   State 0  State 1\n",
       "0      0.5      3.0"
      ]
     },
     "metadata": {},
     "output_type": "display_data"
    },
    {
     "name": "stdout",
     "output_type": "stream",
     "text": [
      "Estimated Weights:\n"
     ]
    },
    {
     "data": {
      "application/vnd.microsoft.datawrangler.viewer.v0+json": {
       "columns": [
        {
         "name": "index",
         "rawType": "int64",
         "type": "integer"
        },
        {
         "name": "State 0",
         "rawType": "float64",
         "type": "float"
        },
        {
         "name": "State 1",
         "rawType": "float64",
         "type": "float"
        }
       ],
       "conversionMethod": "pd.DataFrame",
       "ref": "6753e629-cb45-4634-bc4c-1a2e86ae8953",
       "rows": [
        [
         "0",
         "0.522",
         "2.945"
        ]
       ],
       "shape": {
        "columns": 2,
        "rows": 1
       }
      },
      "text/html": [
       "<div>\n",
       "<style scoped>\n",
       "    .dataframe tbody tr th:only-of-type {\n",
       "        vertical-align: middle;\n",
       "    }\n",
       "\n",
       "    .dataframe tbody tr th {\n",
       "        vertical-align: top;\n",
       "    }\n",
       "\n",
       "    .dataframe thead th {\n",
       "        text-align: right;\n",
       "    }\n",
       "</style>\n",
       "<table border=\"1\" class=\"dataframe\">\n",
       "  <thead>\n",
       "    <tr style=\"text-align: right;\">\n",
       "      <th></th>\n",
       "      <th>State 0</th>\n",
       "      <th>State 1</th>\n",
       "    </tr>\n",
       "  </thead>\n",
       "  <tbody>\n",
       "    <tr>\n",
       "      <th>0</th>\n",
       "      <td>0.522</td>\n",
       "      <td>2.945</td>\n",
       "    </tr>\n",
       "  </tbody>\n",
       "</table>\n",
       "</div>"
      ],
      "text/plain": [
       "   State 0  State 1\n",
       "0    0.522    2.945"
      ]
     },
     "metadata": {},
     "output_type": "display_data"
    },
    {
     "name": "stdout",
     "output_type": "stream",
     "text": [
      "True Theta:\n"
     ]
    },
    {
     "data": {
      "application/vnd.microsoft.datawrangler.viewer.v0+json": {
       "columns": [
        {
         "name": "index",
         "rawType": "int64",
         "type": "integer"
        },
        {
         "name": "State 0",
         "rawType": "float64",
         "type": "float"
        },
        {
         "name": "State 1",
         "rawType": "float64",
         "type": "float"
        }
       ],
       "conversionMethod": "pd.DataFrame",
       "ref": "2f6849a8-e0ff-4036-b5d7-ac2f5c35b07d",
       "rows": [
        [
         "0",
         "-2.0",
         "1.5"
        ]
       ],
       "shape": {
        "columns": 2,
        "rows": 1
       }
      },
      "text/html": [
       "<div>\n",
       "<style scoped>\n",
       "    .dataframe tbody tr th:only-of-type {\n",
       "        vertical-align: middle;\n",
       "    }\n",
       "\n",
       "    .dataframe tbody tr th {\n",
       "        vertical-align: top;\n",
       "    }\n",
       "\n",
       "    .dataframe thead th {\n",
       "        text-align: right;\n",
       "    }\n",
       "</style>\n",
       "<table border=\"1\" class=\"dataframe\">\n",
       "  <thead>\n",
       "    <tr style=\"text-align: right;\">\n",
       "      <th></th>\n",
       "      <th>State 0</th>\n",
       "      <th>State 1</th>\n",
       "    </tr>\n",
       "  </thead>\n",
       "  <tbody>\n",
       "    <tr>\n",
       "      <th>0</th>\n",
       "      <td>-2.0</td>\n",
       "      <td>1.5</td>\n",
       "    </tr>\n",
       "  </tbody>\n",
       "</table>\n",
       "</div>"
      ],
      "text/plain": [
       "   State 0  State 1\n",
       "0     -2.0      1.5"
      ]
     },
     "metadata": {},
     "output_type": "display_data"
    },
    {
     "name": "stdout",
     "output_type": "stream",
     "text": [
      "Estimated Theta:\n"
     ]
    },
    {
     "data": {
      "application/vnd.microsoft.datawrangler.viewer.v0+json": {
       "columns": [
        {
         "name": "index",
         "rawType": "int64",
         "type": "integer"
        },
        {
         "name": "State 0",
         "rawType": "float64",
         "type": "float"
        },
        {
         "name": "State 1",
         "rawType": "float64",
         "type": "float"
        }
       ],
       "conversionMethod": "pd.DataFrame",
       "ref": "c154eb9c-b9f7-4a57-b4c3-8d26df8798d8",
       "rows": [
        [
         "0",
         "-2.147",
         "1.461"
        ]
       ],
       "shape": {
        "columns": 2,
        "rows": 1
       }
      },
      "text/html": [
       "<div>\n",
       "<style scoped>\n",
       "    .dataframe tbody tr th:only-of-type {\n",
       "        vertical-align: middle;\n",
       "    }\n",
       "\n",
       "    .dataframe tbody tr th {\n",
       "        vertical-align: top;\n",
       "    }\n",
       "\n",
       "    .dataframe thead th {\n",
       "        text-align: right;\n",
       "    }\n",
       "</style>\n",
       "<table border=\"1\" class=\"dataframe\">\n",
       "  <thead>\n",
       "    <tr style=\"text-align: right;\">\n",
       "      <th></th>\n",
       "      <th>State 0</th>\n",
       "      <th>State 1</th>\n",
       "    </tr>\n",
       "  </thead>\n",
       "  <tbody>\n",
       "    <tr>\n",
       "      <th>0</th>\n",
       "      <td>-2.147</td>\n",
       "      <td>1.461</td>\n",
       "    </tr>\n",
       "  </tbody>\n",
       "</table>\n",
       "</div>"
      ],
      "text/plain": [
       "   State 0  State 1\n",
       "0   -2.147    1.461"
      ]
     },
     "metadata": {},
     "output_type": "display_data"
    }
   ],
   "source": [
    "em_hmm.display_parameters()"
   ]
  }
 ],
 "metadata": {
  "kernelspec": {
   "display_name": "base",
   "language": "python",
   "name": "python3"
  },
  "language_info": {
   "codemirror_mode": {
    "name": "ipython",
    "version": 3
   },
   "file_extension": ".py",
   "mimetype": "text/x-python",
   "name": "python",
   "nbconvert_exporter": "python",
   "pygments_lexer": "ipython3",
   "version": "3.11.7"
  }
 },
 "nbformat": 4,
 "nbformat_minor": 2
}
